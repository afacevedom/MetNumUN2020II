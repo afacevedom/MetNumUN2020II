{
  "nbformat": 4,
  "nbformat_minor": 0,
  "metadata": {
    "colab": {
      "name": "laboratorio4 metodos.ipynb",
      "provenance": [],
      "collapsed_sections": [
        "ssT2WKWMEwWT",
        "gY3OWCx_Fj8n",
        "pCjypSRzZVgl",
        "WNo7-33vOjFV",
        "B6XUk42Lr-Ee",
        "Sl8yNNZBhtS1",
        "Cx-F8aWZjKdl",
        "j5pR8r7ljzBp",
        "rkz5K67Vj7d-"
      ]
    },
    "kernelspec": {
      "name": "python3",
      "display_name": "Python 3"
    }
  },
  "cells": [
    {
      "cell_type": "markdown",
      "metadata": {
        "id": "ZfdlCm9NEYHa"
      },
      "source": [
        "# LABORATORIO 4 METODOS NUMERICOS \n",
        "### Monte Carlo – 21 Blackjack – Group 7\n"
      ]
    },
    {
      "cell_type": "code",
      "metadata": {
        "id": "2_HxEktubL5J"
      },
      "source": [
        "import random as r\n",
        "import numpy as np\n",
        "import matplotlib.pyplot as plt"
      ],
      "execution_count": null,
      "outputs": []
    },
    {
      "cell_type": "code",
      "metadata": {
        "id": "b32oHI64dF2I"
      },
      "source": [
        "baraja_española = (1,2,3,4,5,6,7,10,11,12,1,2,3,4,5,6,7,8,9,10,11,12,1,2,3,4,5,6,7,8,9,10,11,12,1,2,3,4,5,6,7,8,9,10,11,12)\n",
        "baraja_poker = (1,2,3,4,5,6,7,8,9,10,11,12,13,1,2,3,4,5,6,7,8,9,10,11,12,13,1,2,3,4,5,6,7,8,9,10,11,12,13,1,2,3,4,5,6,7,8,9,10,11,12,13)\n",
        "\n",
        "baraja_española_2 = (1,2,3,4,5,6,7,8,9,10,10,10,1,2,3,4,5,6,7,8,9,10,10,10,1,2,3,4,5,6,7,8,9,10,10,10,1,2,3,4,5,6,7,8,9,10,10,10)\n",
        "baraja_poker_2 = (1,2,3,4,5,6,7,8,9,10,10,10,10,1,2,3,4,5,6,7,8,9,10,10,10,10,1,2,3,4,5,6,7,8,9,10,10,10,10,1,2,3,4,5,6,7,8,9,10,10,10,10)\n",
        "\n",
        "numero_experimentos = 10000000"
      ],
      "execution_count": null,
      "outputs": []
    },
    {
      "cell_type": "markdown",
      "metadata": {
        "id": "ssT2WKWMEwWT"
      },
      "source": [
        "## PUNTO 1\n",
        "\n",
        "Estime la probabilidad de obtener un 21, el número promedio de cartas necesarias para completar 21 y trazar la distribución experimental de la cantidad de cartas necesarias para completar 21 cartas de dibujo secuencialmente de una baraja española de 48 cartas barajada con valores de cartas [1,2, 3,4,5,6,7,10,11,12,1,2,3,4,5,6,7,8,9,10,11,12,1,2,3,4,5, 6,7,8,9,10,11,12,1,2,3,4,5,6,7,8,9,10,11,12] y de una 52 cartas de Poker barajadas con valores de cartas [ 1,2,3,4,5,6,7,8,9,10,11,12,13,1,2,3,4,5,6,7,8,9,10,11,12, 13,1,2,3,4,5,6,7,8,9,10,11,12,13,1,2,3,4,5,6,7,8,9,10,11, 12,13] utilizando Montecarlo con 10 millones de simulaciones."
      ]
    },
    {
      "cell_type": "code",
      "metadata": {
        "id": "tOkYD-W8EyLw",
        "outputId": "f80914f8-eaae-4cfe-ede3-dfd443eaf636",
        "colab": {
          "base_uri": "https://localhost:8080/"
        }
      },
      "source": [
        "n_ganadas = 0\n",
        "n_cartas_ganadas = 0\n",
        "n_cartas_ganadas_lista = []\n",
        "\n",
        "for i in range(numero_experimentos):\n",
        "    deck = list(baraja_española)\n",
        "    sum_cartas = 0\n",
        "    n_cartas = 0\n",
        "    while sum_cartas < 21:\n",
        "        carta = r.choice(deck)\n",
        "        sum_cartas += carta\n",
        "        n_cartas += 1\n",
        "        deck.remove(carta)\n",
        "    if sum_cartas == 21:\n",
        "        n_ganadas += 1\n",
        "        n_cartas_ganadas += n_cartas\n",
        "        n_cartas_ganadas_lista.append(n_cartas)\n",
        "print(\"Probabilidad de Ganar con Baraja Española:\", n_ganadas/numero_experimentos, \"Promedio de cartas para ganar:\", n_cartas_ganadas/n_ganadas)\n",
        "# Graficar\n",
        "arreglo_ncg = np.array(n_cartas_ganadas_lista)\n",
        "plt.hist(arreglo_ncg);"
      ],
      "execution_count": null,
      "outputs": [
        {
          "output_type": "stream",
          "text": [
            "Probabilidad de Ganar con Baraja Española: 0.1587577 Promedio de cartas para ganar: 3.478808901867437\n"
          ],
          "name": "stdout"
        },
        {
          "output_type": "display_data",
          "data": {
            "image/png": "[encoded data removed]",
            "text/plain": [
              "<Figure size 432x288 with 1 Axes>"
            ]
          },
          "metadata": {
            "tags": [],
            "needs_background": "light"
          }
        }
      ]
    },
    {
      "cell_type": "code",
      "metadata": {
        "id": "Na7vGi7-E2-u",
        "outputId": "538fe40b-4105-4a90-ba1b-4c4980a2491c",
        "colab": {
          "base_uri": "https://localhost:8080/"
        }
      },
      "source": [
        "n_ganadas = 0\n",
        "n_cartas_ganadas = 0\n",
        "n_cartas_ganadas_lista = []\n",
        "\n",
        "for i in range(numero_experimentos):\n",
        "    deck = list(baraja_poker)\n",
        "    sum_cartas = 0\n",
        "    n_cartas = 0\n",
        "    while sum_cartas < 21:\n",
        "        carta = r.choice(deck)\n",
        "        sum_cartas += carta\n",
        "        n_cartas += 1\n",
        "        deck.remove(carta)\n",
        "    if sum_cartas == 21:\n",
        "        n_ganadas += 1\n",
        "        n_cartas_ganadas += n_cartas\n",
        "        n_cartas_ganadas_lista.append(n_cartas)\n",
        "print(\"Probabilidad de Ganar con Baraja de Poker:\", n_ganadas/numero_experimentos, \"Promedio de cartas para ganar:\", n_cartas_ganadas/n_ganadas)\n",
        "# Graficar\n",
        "arreglo_ncg = np.array(n_cartas_ganadas_lista)\n",
        "plt.hist(arreglo_ncg);"
      ],
      "execution_count": null,
      "outputs": [
        {
          "output_type": "stream",
          "text": [
            "Probabilidad de Ganar con Baraja de Poker: 0.1447522 Promedio de cartas para ganar: 3.215800519784846\n"
          ],
          "name": "stdout"
        }
      ]
    },
    {
      "cell_type": "markdown",
      "metadata": {
        "id": "gY3OWCx_Fj8n"
      },
      "source": [
        "## PUNTO 2\n",
        "\n",
        "Estime la probabilidad de obtener un 21, el número promedio de cartas necesarias para completar 21 y trazar la distribución experimental de la cantidad de cartas necesarias para completar 21 cartas de dibujo secuencialmente de una baraja española de 48 cartas barajada con valores de cartas [1,2, 3,4,5,6,7,10,10,10,1,2,3,4,5,6,7,8,9,10,10,10,1,2,3,4,5, 6,7,8,9,10,10,10,1,2,3,4,5,6,7,8,9,10,10,10] y de una baraja de póquer de 52 cartas barajada con valores de cartas [1,2,3,4,5,6,7,8,9,10,11,12,13,1,2,3,4,5,6,7,8,9,10,10,10 , 10,1,2,3,4,5,6,7,8,9,10,10,10,10,1,2,3,4,5,6,7,8,9,10,10 , 10,10] utilizando Montecarlo con 10 millones de simulaciones."
      ]
    },
    {
      "cell_type": "code",
      "metadata": {
        "id": "2V8IpXABFlV8",
        "outputId": "1ff21555-ccda-44c6-adbb-d7ab82bb89f4",
        "colab": {
          "base_uri": "https://localhost:8080/",
          "height": 282
        }
      },
      "source": [
        "n_ganadas = 0\n",
        "n_cartas_ganadas = 0\n",
        "n_cartas_ganadas_lista = []\n",
        "\n",
        "for i in range(numero_experimentos):\n",
        "    deck = list(baraja_española_2)\n",
        "    sum_cartas = 0\n",
        "    n_cartas = 0\n",
        "    while sum_cartas < 21:\n",
        "        carta = r.choice(deck)\n",
        "        sum_cartas += carta\n",
        "        n_cartas += 1\n",
        "        deck.remove(carta)\n",
        "    if sum_cartas == 21:\n",
        "        n_ganadas += 1\n",
        "        n_cartas_ganadas += n_cartas\n",
        "        n_cartas_ganadas_lista.append(n_cartas)\n",
        "print(\"Probabilidad de Ganar con Baraja Española:\", n_ganadas/numero_experimentos, \"Promedio de cartas para ganar:\", n_cartas_ganadas/n_ganadas)\n",
        "# Graficar\n",
        "arreglo_ncg = np.array(n_cartas_ganadas_lista)\n",
        "plt.hist(arreglo_ncg);"
      ],
      "execution_count": null,
      "outputs": [
        {
          "output_type": "stream",
          "text": [
            "Probabilidad de Ganar con Baraja Española: 0.1496611 Promedio de cartas para ganar: 3.69971088011514\n"
          ],
          "name": "stdout"
        },
        {
          "output_type": "display_data",
          "data": {
            "image/png": "[encoded data removed]",
            "text/plain": [
              "<Figure size 432x288 with 1 Axes>"
            ]
          },
          "metadata": {
            "tags": [],
            "needs_background": "light"
          }
        }
      ]
    },
    {
      "cell_type": "code",
      "metadata": {
        "id": "LKW4MTBeGUT2",
        "outputId": "a321c0ab-aa1e-4f86-85a6-9a02822112ba",
        "colab": {
          "base_uri": "https://localhost:8080/",
          "height": 282
        }
      },
      "source": [
        "n_ganadas = 0\n",
        "n_cartas_ganadas = 0\n",
        "n_cartas_ganadas_lista = []\n",
        "\n",
        "for i in range(numero_experimentos):\n",
        "    deck = list(baraja_poker_2)\n",
        "    sum_cartas = 0\n",
        "    n_cartas = 0\n",
        "    while sum_cartas < 21:\n",
        "        carta = r.choice(deck)\n",
        "        sum_cartas += carta\n",
        "        n_cartas += 1\n",
        "        deck.remove(carta)\n",
        "    if sum_cartas == 21:\n",
        "        n_ganadas += 1\n",
        "        n_cartas_ganadas += n_cartas\n",
        "        n_cartas_ganadas_lista.append(n_cartas)\n",
        "print(\"Probabilidad de Ganar con Baraja Espaniola:\", n_ganadas/numero_experimentos, \"Promedio de cartas para ganar:\", n_cartas_ganadas/n_ganadas)\n",
        "# Graficar\n",
        "arreglo_ncg = np.array(n_cartas_ganadas_lista)\n",
        "plt.hist(arreglo_ncg);"
      ],
      "execution_count": null,
      "outputs": [
        {
          "output_type": "stream",
          "text": [
            "Probabilidad de Ganar con Baraja Espaniola: 0.1401449 Promedio de cartas para ganar: 3.577156928293502\n"
          ],
          "name": "stdout"
        },
        {
          "output_type": "display_data",
          "data": {
            "image/png": "[encoded data removed]",
            "text/plain": [
              "<Figure size 432x288 with 1 Axes>"
            ]
          },
          "metadata": {
            "tags": [],
            "needs_background": "light"
          }
        }
      ]
    },
    {
      "cell_type": "markdown",
      "metadata": {
        "id": "pCjypSRzZVgl"
      },
      "source": [
        "## PUNTO 3\n",
        "\n",
        "Estime la probabilidad de obtener un 21, el número total promedio de cartas necesarias para completar 21 (incluidas las tres con las que comienza) y trazar la distribución experimental de la cantidad de cartas necesarias para completar 21 con el dibujo de las cartas secuencialmente de un español 48 barajado. - baraja de cartas con 3 10's y una baraja de 52 cartas de Poker barajada con 4 10's, asumiendo que tienes en tu mano las cartas [7,7,5] ae y la baraja restante tiene n / 2 cartas. Puede elegir las cartas n / 2 en el mazo restante de la manera que elija, pero con la restricción de que este tiene un máximo de dos 7 y tres 5, debe mantener el mazo restante fijo a través de las simulaciones, use Montecarlo con 10 millones de simulaciones."
      ]
    },
    {
      "cell_type": "code",
      "metadata": {
        "id": "xKlqAkYvGdo9",
        "outputId": "3a5c3e3f-8d5a-41cb-d2b3-04aa48cd1f44",
        "colab": {
          "base_uri": "https://localhost:8080/",
          "height": 282
        }
      },
      "source": [
        "n_ganadas = 0\n",
        "n_cartas_ganadas = 0\n",
        "n_cartas_ganadas_lista = []\n",
        "\n",
        "for i in range(numero_experimentos):\n",
        "    deck = [1,2,3,4,5,6,7,8,9,10,10,10,1,2,3,4,5,6,7,8,9,10,10,10]\n",
        "    sum_cartas = 19\n",
        "    n_cartas = 3\n",
        "    while sum_cartas < 21:\n",
        "        carta = r.choice(deck)\n",
        "        sum_cartas += carta\n",
        "        n_cartas += 1\n",
        "        deck.remove(carta)\n",
        "    if sum_cartas == 21:\n",
        "        n_ganadas += 1\n",
        "        n_cartas_ganadas += n_cartas\n",
        "        n_cartas_ganadas_lista.append(n_cartas)\n",
        "print(\"Probabilidad de Ganar con Baraja Espaniola:\", n_ganadas/numero_experimentos, \"Promedio de cartas para ganar:\", n_cartas_ganadas/n_ganadas)\n",
        "# Graficar\n",
        "arreglo_ncg = np.array(n_cartas_ganadas_lista)\n",
        "plt.hist(arreglo_ncg, bins=3);"
      ],
      "execution_count": null,
      "outputs": [
        {
          "output_type": "stream",
          "text": [
            "Probabilidad de Ganar con Baraja Espaniola: 0.0870837 Promedio de cartas para ganar: 4.0419504453761155\n"
          ],
          "name": "stdout"
        },
        {
          "output_type": "display_data",
          "data": {
            "image/png": "[encoded data removed]",
            "text/plain": [
              "<Figure size 432x288 with 1 Axes>"
            ]
          },
          "metadata": {
            "tags": [],
            "needs_background": "light"
          }
        }
      ]
    },
    {
      "cell_type": "code",
      "metadata": {
        "id": "Mn71gZt9Nfjf",
        "outputId": "f5a9397d-c3b1-45e5-9dcd-bea450b01c59",
        "colab": {
          "base_uri": "https://localhost:8080/",
          "height": 284
        }
      },
      "source": [
        "n_ganadas = 0\n",
        "n_cartas_ganadas = 0\n",
        "n_cartas_ganadas_lista = []\n",
        "\n",
        "for i in range(numero_experimentos):\n",
        "    deck = [1,2,3,4,5,6,7,8,9,10,10,10,1,2,3,4,5,6,7,8,9,10,10,10,6,8]\n",
        "    sum_cartas = 19\n",
        "    n_cartas = 3\n",
        "    while sum_cartas < 21:\n",
        "        carta = r.choice(deck)\n",
        "        sum_cartas += carta\n",
        "        n_cartas += 1\n",
        "        deck.remove(carta)\n",
        "    if sum_cartas == 21:\n",
        "        n_ganadas += 1\n",
        "        n_cartas_ganadas += n_cartas\n",
        "        n_cartas_ganadas_lista.append(n_cartas)\n",
        "print(\"Probabilidad de Ganar con Baraja de Poker:\", n_ganadas/numero_experimentos, \"Promedio de cartas para ganar:\", n_cartas_ganadas/n_ganadas)\n",
        "# Graficar\n",
        "arreglo_ncg = np.array(n_cartas_ganadas_lista)\n",
        "plt.hist(arreglo_ncg, bins=3);"
      ],
      "execution_count": null,
      "outputs": [
        {
          "output_type": "stream",
          "text": [
            "Probabilidad de Ganar con Baraja de Poker: 0.0799967 Promedio de cartas para ganar: 4.0384990880873834\n"
          ],
          "name": "stdout"
        },
        {
          "output_type": "display_data",
          "data": {
            "image/png": "[encoded data removed]",
            "text/plain": [
              "<Figure size 432x288 with 1 Axes>"
            ]
          },
          "metadata": {
            "tags": [],
            "needs_background": "light"
          }
        }
      ]
    },
    {
      "cell_type": "markdown",
      "metadata": {
        "id": "WNo7-33vOjFV"
      },
      "source": [
        "## PUNTO 4.\n",
        "\n",
        "Encuentra dos barajas restantes con 8 cartas para una baraja española de 48 cartas con 3 10 y para una baraja de póquer de 52 cartas con 4 10; un mazo restante con 8 cartas que tiene la mayor probabilidad de obtener 21 (mazo caliente) y el otro mazo restante con 8 cartas que tiene la menor probabilidad de obtener 21 (mazo frío). Suponiendo que tiene en su mano las cartas [7,7,5], calcule analíticamente las probabilidades de obtener un 21 tanto para el mazo caliente como para el frío, estime estas probabilidades de obtener un 21, el número total promedio de cartas necesarias para completar 21 (incluidas las tres con las que comienzas) y traza la distribución experimental del número total de tarjetas necesarias para completar 21 (incluidas las tres con las que comienzas) usando Montecarlo con 10 millones de simulaciones."
      ]
    },
    {
      "cell_type": "markdown",
      "metadata": {
        "id": "4dE5rjGnPIW6"
      },
      "source": [
        "Las barajas calientes teniendo [7,7,5] son las barajas que tengan más 1's y 2's. Contrariamente, las barajas frias seran las que tengan menos 1's y 2's.\n",
        "\n",
        "\n",
        "*   12 Cartas:\n",
        " *    Baraja Caliente: [1,1,1,1,2,2,2,2,x,x,x,x] (donde x es cualquier numero).\n",
        " -> Probabilidad de ganar: 1/3 + ((1/3)*(3/11)) = 1/3 + 1/11 ≈ 0.424242424\n",
        "\n",
        " *    Baraja Fria: [x,x,x,x,x,x,x,x,x,x,x,x] (donde x es cualquier numero excepto 1's y 2's).\n",
        " -> Probabilidad de ganar: 0\n",
        "\n",
        "*   10 Cartas:\n",
        " *    Baraja Caliente: [1,1,1,1,2,2,2,2,x,x] (donde x es cualquier numero).\n",
        " -> Probabilidad de ganar: 2/5 + ((2/5)*(1/3)) = 2/5 + 2/15 ≈ 0.533333333\n",
        "\n",
        " *    Baraja Fria: [x,x,x,x,x,x,x,x,x,x] (donde x es cualquier numero excepto 1's y 2's). \n",
        " -> Probabilidad de ganar: 0"
      ]
    },
    {
      "cell_type": "code",
      "metadata": {
        "id": "JK42v_XHOH3t",
        "outputId": "c8a274b2-fa9f-4a4c-d39d-7e7afcf79475",
        "colab": {
          "base_uri": "https://localhost:8080/",
          "height": 293
        }
      },
      "source": [
        "# 12 CARTAS HOT DECK\n",
        "n_ganadas = 0\n",
        "n_cartas_ganadas = 0\n",
        "n_cartas_ganadas_lista = []\n",
        "\n",
        "for i in range(numero_experimentos):\n",
        "    deck = [1,1,1,1,2,2,2,2,10,10,10,10]\n",
        "    sum_cartas = 19\n",
        "    n_cartas = 3\n",
        "    while sum_cartas < 21:\n",
        "        carta = r.choice(deck)\n",
        "        sum_cartas += carta\n",
        "        n_cartas += 1\n",
        "        deck.remove(carta)\n",
        "    if sum_cartas == 21:\n",
        "        n_ganadas += 1\n",
        "        n_cartas_ganadas += n_cartas\n",
        "        n_cartas_ganadas_lista.append(n_cartas)\n",
        "print(\"Probabilidad de Ganar con Hot Deck de 12 Cartas:\", n_ganadas/numero_experimentos, \"Promedio de cartas para ganar:\", n_cartas_ganadas/n_ganadas)\n",
        "# Graficar\n",
        "arreglo_ncg = np.array(n_cartas_ganadas_lista)\n",
        "plt.hist(arreglo_ncg, bins=2, align='mid');"
      ],
      "execution_count": null,
      "outputs": [
        {
          "output_type": "stream",
          "text": [
            "Probabilidad de Ganar con Hot Deck de 12 Cartas: 0.424347 Promedio de cartas para ganar: 4.2136777212988425\n"
          ],
          "name": "stdout"
        },
        {
          "output_type": "display_data",
          "data": {
            "image/png": "[encoded data removed]",
            "text/plain": [
              "<Figure size 432x288 with 1 Axes>"
            ]
          },
          "metadata": {
            "tags": [],
            "needs_background": "light"
          }
        }
      ]
    },
    {
      "cell_type": "code",
      "metadata": {
        "id": "vHa0zyzdS9Ir",
        "outputId": "ce8fd799-762b-444a-afe2-552db7529704",
        "colab": {
          "base_uri": "https://localhost:8080/",
          "height": 282
        }
      },
      "source": [
        "# 12 CARTAS COLD DECK\n",
        "n_ganadas = 0\n",
        "n_cartas_ganadas = 0\n",
        "n_cartas_ganadas_lista = []\n",
        "\n",
        "for i in range(numero_experimentos):\n",
        "    deck = [8,8,8,8,9,9,9,9,10,10,10,10]\n",
        "    sum_cartas = 19\n",
        "    n_cartas = 3\n",
        "    while sum_cartas < 21:\n",
        "        carta = r.choice(deck)\n",
        "        sum_cartas += carta\n",
        "        n_cartas += 1\n",
        "        deck.remove(carta)\n",
        "    if sum_cartas == 21:\n",
        "        n_ganadas += 1\n",
        "        n_cartas_ganadas += n_cartas\n",
        "        n_cartas_ganadas_lista.append(n_cartas)\n",
        "print(\"Probabilidad de Ganar con Cold Deck de 12 Cartas:\", n_ganadas/numero_experimentos, \"Promedio de cartas para ganar:\", n_cartas_ganadas)\n",
        "# Graficar\n",
        "arreglo_ncg = np.array(n_cartas_ganadas_lista)\n",
        "plt.hist(arreglo_ncg, bins=2);"
      ],
      "execution_count": null,
      "outputs": [
        {
          "output_type": "stream",
          "text": [
            "Probabilidad de Ganar con Cold Deck de 12 Cartas: 0.0 Promedio de cartas para ganar: 0\n"
          ],
          "name": "stdout"
        },
        {
          "output_type": "display_data",
          "data": {
            "image/png": "[encoded data removed]",
            "text/plain": [
              "<Figure size 432x288 with 1 Axes>"
            ]
          },
          "metadata": {
            "tags": [],
            "needs_background": "light"
          }
        }
      ]
    },
    {
      "cell_type": "code",
      "metadata": {
        "id": "mVIW1qhlUN4O",
        "outputId": "d13b679c-b03c-4c45-db55-a3e5653de049",
        "colab": {
          "base_uri": "https://localhost:8080/",
          "height": 293
        }
      },
      "source": [
        "# 10 CARTAS HOT DECK\n",
        "n_ganadas = 0\n",
        "n_cartas_ganadas = 0\n",
        "n_cartas_ganadas_lista = []\n",
        "\n",
        "for i in range(numero_experimentos):\n",
        "    deck = [1,1,1,1,2,2,2,2,10,10]\n",
        "    sum_cartas = 19\n",
        "    n_cartas = 3\n",
        "    while sum_cartas < 21:\n",
        "        carta = r.choice(deck)\n",
        "        sum_cartas += carta\n",
        "        n_cartas += 1\n",
        "        deck.remove(carta)\n",
        "    if sum_cartas == 21:\n",
        "        n_ganadas += 1\n",
        "        n_cartas_ganadas += n_cartas\n",
        "        n_cartas_ganadas_lista.append(n_cartas)\n",
        "print(\"Probabilidad de Ganar con Hot Deck de 10 Cartas:\", n_ganadas/numero_experimentos, \"Promedio de cartas para ganar:\", n_cartas_ganadas/n_ganadas)\n",
        "# Graficar\n",
        "arreglo_ncg = np.array(n_cartas_ganadas_lista)\n",
        "plt.hist(arreglo_ncg, bins=2);"
      ],
      "execution_count": null,
      "outputs": [
        {
          "output_type": "stream",
          "text": [
            "Probabilidad de Ganar con Hot Deck de 10 Cartas: 0.5332169 Promedio de cartas para ganar: 4.250042712449662\n"
          ],
          "name": "stdout"
        },
        {
          "output_type": "display_data",
          "data": {
            "image/png": "[encoded data removed]",
            "text/plain": [
              "<Figure size 432x288 with 1 Axes>"
            ]
          },
          "metadata": {
            "tags": [],
            "needs_background": "light"
          }
        }
      ]
    },
    {
      "cell_type": "code",
      "metadata": {
        "id": "772rTvCJUekj",
        "outputId": "5db26121-bfeb-4e7d-a813-478a9c23ec5d",
        "colab": {
          "base_uri": "https://localhost:8080/",
          "height": 282
        }
      },
      "source": [
        "# 10 CARTAS COLD DECK\n",
        "n_ganadas = 0\n",
        "n_cartas_ganadas = 0\n",
        "n_cartas_ganadas_lista = []\n",
        "\n",
        "for i in range(numero_experimentos):\n",
        "    deck = [8,8,8,8,9,9,9,9,10,10]\n",
        "    sum_cartas = 19\n",
        "    n_cartas = 3\n",
        "    while sum_cartas < 21:\n",
        "        carta = r.choice(deck)\n",
        "        sum_cartas += carta\n",
        "        n_cartas += 1\n",
        "        deck.remove(carta)\n",
        "    if sum_cartas == 21:\n",
        "        n_ganadas += 1\n",
        "        n_cartas_ganadas += n_cartas\n",
        "        n_cartas_ganadas_lista.append(n_cartas)\n",
        "print(\"Probabilidad de Ganar con Cold Deck de 10 Cartas:\", n_ganadas/numero_experimentos, \"Promedio de cartas para ganar:\", n_cartas_ganadas)\n",
        "# Graficar\n",
        "arreglo_ncg = np.array(n_cartas_ganadas_lista)\n",
        "plt.hist(arreglo_ncg, bins=2);"
      ],
      "execution_count": null,
      "outputs": [
        {
          "output_type": "stream",
          "text": [
            "Probabilidad de Ganar con Cold Deck de 10 Cartas: 0.0 Promedio de cartas para ganar: 0\n"
          ],
          "name": "stdout"
        },
        {
          "output_type": "display_data",
          "data": {
            "image/png": "[encoded data removed]",
            "text/plain": [
              "<Figure size 432x288 with 1 Axes>"
            ]
          },
          "metadata": {
            "tags": [],
            "needs_background": "light"
          }
        }
      ]
    },
    {
      "cell_type": "markdown",
      "metadata": {
        "id": "B6XUk42Lr-Ee"
      },
      "source": [
        "## PUNTO 5\n",
        "\n",
        "Estime la cantidad promedio de dinero (valor esperado) que Ben gana o pierde en un fin de semana si Ben va a Las Vegas todos los fines de semana (viernes, sábado y domingo), juega todos los fines de semana 10 horas, cada juego dura 3 minutos. Suponga que por cada juego obtiene dos posibilidades, en una tiene en su mano las cartas [7,7,5] y un hot deck restante con 8 cartas en cuyo caso apuesta 1000 esto sucede con probabilidad 1/10; en el otro no tiene cartas en la mano una baraja completa barajada en cuyo caso apuesta $ 10, esto sucede con la probabilidad restante 9/10. Utilice 10000 simulaciones de Montecarlo para estimar la cantidad de dinero esperada que Ben gana o pierde en un fin de semana para una baraja española de 48 cartas con 3 decenas y para una baraja de póquer de 52 cartas con 4 decenas."
      ]
    },
    {
      "cell_type": "code",
      "metadata": {
        "id": "5W-e2HNsayUx",
        "outputId": "e97740f1-7fcb-45cc-ac38-3221e29d2a5c",
        "colab": {
          "base_uri": "https://localhost:8080/",
          "height": 697
        }
      },
      "source": [
        "\n",
        "#5\n",
        "#importacion de las librerias de usar\n",
        "#\n",
        "import random\n",
        "#\n",
        "import matplotlib.pyplot as plt\n",
        "#\n",
        "import numpy as np\n",
        "\n",
        "#5\n",
        "#funcion para calcular la ganancia tras un juego\n",
        "def apostar(Maso1,Mano1,dinero):\n",
        "  #copiar los vectores\n",
        "  Maso = Maso1[:]\n",
        "  Mano = Mano1[:]\n",
        "\n",
        "  #Revolver las cartas\n",
        "  random.shuffle(Maso)\n",
        "\n",
        "  for x in Maso:\n",
        "    \n",
        "    #Se calcula si la Mano es 21 gano dinero\n",
        "    if (sum(Mano)==21):\n",
        "\n",
        "      #Devolver el resultado favorable\n",
        "      return (dinero)\n",
        "      \n",
        "      #me pase pierdo dinero\n",
        "    elif (sum(Mano)>21):\n",
        "      return (dinero*(-1))\n",
        "\n",
        "      #Se toma una carta\n",
        "    else:\n",
        "      Mano.append(Maso.pop())\n",
        "\n",
        "#5\n",
        "#Funcion que genera la matriz con 600 digitos\n",
        "def Completar(al):\n",
        "  matriz = al[:]\n",
        "  for s in range(0,60-1):\n",
        "    al = al + matriz\n",
        "  return al\n",
        "\n",
        "#5\n",
        "#Funcion para definir la simulacion de juego\n",
        "def Inicio_Juego(Mano, Maso, sim):\n",
        "  \n",
        "  #Numero de juegos cada fin de semana\n",
        "  Tiempo = int(3*10 * 60 / 3)\n",
        "  print (\"\\tNumero de juegos \", Tiempo,\"\\n\")\n",
        "\n",
        "  #Duracion de la adiccion es de 10 millones de juegos\n",
        "  i = 0\n",
        "\n",
        "  #Juegos cada semana\n",
        "  j = 0\n",
        "\n",
        "  #Almacenar el dinero por semana\n",
        "  ganado = 0\n",
        "  \n",
        "  #Almacenar los resultados por semana\n",
        "  resultado = []\n",
        "\n",
        "  #Acumulado de ganancia\n",
        "  acumulado = 0\n",
        "\n",
        "  #Vector aleatorio con probabilidad de 1/10 para tener maso caliente\n",
        "  al = [1,0,0,0,0,0,0,0,0,0]\n",
        "  \n",
        "  #Se genera una matris con los 600 datos \n",
        "  al = Completar(al)\n",
        "\n",
        "  #Inicio se repetira 10 mil semanas\n",
        "  while (i <= sim):\n",
        "\n",
        "    #Sistema de revolver las probabilidades\n",
        "    random.shuffle(al)\n",
        "    \n",
        "    #Condicional que separa las semanas\n",
        "    if (j >= Tiempo):\n",
        "      j = 0\n",
        "      i +=1\n",
        "      #print (\"Ganancia de Ben en la semana \", int(i/Tiempo),\" es de $\", ganado)\n",
        "      acumulado = acumulado + ganado\n",
        "      \n",
        "      #Almacenar el dinero que se gana en la semana\n",
        "      resultado.append(ganado)\n",
        "\n",
        "      ganado = 0\n",
        "\n",
        "    #Juego de 21\n",
        "    else:\n",
        "\n",
        "      #Leer las probabilidades aleatoria con mejor probabilidad\n",
        "      for l in al:\n",
        "        #Jugada realizada\n",
        "        j = j+1\n",
        "\n",
        "        premio = 0\n",
        "\n",
        "        #Si la probabilidad es favorable se apuesta 1000\n",
        "        if (l):\n",
        "        \n",
        "          #Llamada de la funcion apostar\n",
        "          premio = apostar(Maso[0],Mano,1000)\n",
        "          \n",
        "          #Si la probabilidad es desfavorable se apuesta 10\n",
        "        else:\n",
        "          #Llamada de la funcion apostar\n",
        "          premio = apostar(Maso[1],[],10)\n",
        "        \n",
        "        #Sumar los resultados\n",
        "        ganado = ganado + premio\n",
        "\n",
        "  print (\"\\nLa ganancia de Ben es de $\", acumulado,\"\\n\")\n",
        "\n",
        "\n",
        "\n",
        "###Baraja Española\n",
        "\n",
        "#5\n",
        "#Baraja Española\n",
        "Maso_Español = [1,2,3,4,5,6,7,8,9,10,10,10]\n",
        "Maso_Español = Maso_Español+Maso_Español\n",
        "Maso_Español = Maso_Español+Maso_Español\n",
        "Maso_Español_C = [[1,1,1,1,2,2,2,2],Maso_Español]\n",
        "\n",
        "#Tiempo de juego en cada semana 3 dias a la semana, 10 horas de juego \n",
        "#y cada partida con duracion de 3 minutos\n",
        "\n",
        "print (\"\\n\\tInicio de la partida.\\n\\n\")\n",
        "print (\"Baraja Española\")\n",
        "\n",
        "#Mis cartas recividas (mano)\n",
        "Mano1 = [5,7,7]\n",
        "\n",
        "#Calcular con el maso\n",
        "Inicio_Juego(Mano1, Maso_Español_C, 10000)\n",
        "  \n",
        "\n",
        "###Baraja de Poker\n",
        "\n",
        "#5\n",
        "#Baraja Poker\n",
        "Maso_Poker = [1,2,3,4,5,6,7,8,9,10,10,10,10]\n",
        "Maso_Poker = Maso_Poker+Maso_Poker\n",
        "Maso_Poker = Maso_Poker+Maso_Poker\n",
        "Maso_Poker_C = [[1,1,10,10,2,2,2,2,],Maso_Poker]\n",
        "\n",
        "#Tiempo de juego en cada semana 3 dias a la semana, 10 horas de juego \n",
        "#y cada partida con duracion de 3 minutos\n",
        "\n",
        "print (\"\\n\\tInicio de la partida.\\n\\n\")\n",
        "print (\"Baraja de Poker\")\n",
        "\n",
        "#Mis cartas recividas (mano)\n",
        "Mano1 = [5,7,7]\n",
        "\n",
        "#Calcular con el maso\n",
        "Inicio_Juego(Mano1, Maso_Poker_C, 10000)"
      ],
      "execution_count": null,
      "outputs": [
        {
          "output_type": "stream",
          "text": [
            "\n",
            "\tInicio de la partida.\n",
            "\n",
            "\n",
            "Baraja Española\n",
            "\tNumero de juegos  600 \n",
            "\n",
            "\n",
            "La ganancia de Ben es de $ 218033260 \n",
            "\n",
            "\n",
            "\tInicio de la partida.\n",
            "\n",
            "\n",
            "Baraja de Poker\n",
            "\tNumero de juegos  600 \n",
            "\n",
            "\n",
            "La ganancia de Ben es de $ 3836720 \n",
            "\n",
            "\n",
            "\tInicio de la partida.\n",
            "\n",
            "\n",
            "Baraja Española\n",
            "\tNumero de juegos  600 \n",
            "\n",
            "\n",
            "La ganancia de Ben es de $ 220049180 \n",
            "\n",
            "\n",
            "\tInicio de la partida.\n",
            "\n",
            "\n",
            "Baraja de Poker\n",
            "\tNumero de juegos  600 \n",
            "\n",
            "\n",
            "La ganancia de Ben es de $ 2996400 \n",
            "\n"
          ],
          "name": "stdout"
        }
      ]
    }
  ]
}
